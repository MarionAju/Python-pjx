{
 "cells": [
  {
   "cell_type": "code",
   "execution_count": 18,
   "id": "5b4e532d-32d6-476e-afdf-33db547b6492",
   "metadata": {},
   "outputs": [],
   "source": [
    "import os, shutil"
   ]
  },
  {
   "cell_type": "code",
   "execution_count": 6,
   "id": "f5f51583-b6c2-4faa-8f69-655f06b9e26f",
   "metadata": {},
   "outputs": [],
   "source": [
    "path = r\"C:/Users/user/OneDrive/File Explorer Python/\""
   ]
  },
  {
   "cell_type": "code",
   "execution_count": 19,
   "id": "8c5df88b-1fd8-4dcb-a5c1-e3c0cd5657dc",
   "metadata": {},
   "outputs": [],
   "source": [
    "file_name =os.listdir(path)"
   ]
  },
  {
   "cell_type": "code",
   "execution_count": 20,
   "id": "cf3de33b-2540-4585-adfe-b1d9c3eca745",
   "metadata": {},
   "outputs": [],
   "source": [
    "folder_names = ['excel files', 'image files', 'docx files']\n",
    "\n",
    "for loop in range(0,3):\n",
    "    if not os.path.exists(path + folder_names[loop]):\n",
    "        #print(path + folder_names[loop])\n",
    "        os.makedirs(path + folder_names[loop])\n",
    "\n",
    "for file in file_name:\n",
    "    if \".xlsx\" in file and not os.path.exists(path + \"excel files/\" + file):\n",
    "        shutil.move(path + file, path + \"excel files/\" + file)\n",
    "    elif \".jpg\" in file and not os.path.exists(path + \"image files/\" + file):\n",
    "        shutil.move(path + file, path + \"image files/\" + file)\n",
    "    elif \".docx\" in file and not os.path.exists(path + \"docx files/\" + file):\n",
    "        shutil.move(path + file, path + \"docx files/\" + file)\n",
    "\n"
   ]
  },
  {
   "cell_type": "code",
   "execution_count": 17,
   "id": "051ebd18-b647-44f0-9ba9-ab5fbda27721",
   "metadata": {},
   "outputs": [],
   "source": []
  },
  {
   "cell_type": "code",
   "execution_count": null,
   "id": "a800c5b5-426f-4cbc-b165-c80ad7709c60",
   "metadata": {},
   "outputs": [],
   "source": []
  },
  {
   "cell_type": "code",
   "execution_count": null,
   "id": "fdb93a9f-ec49-4123-a639-009e8d426127",
   "metadata": {},
   "outputs": [],
   "source": []
  },
  {
   "cell_type": "code",
   "execution_count": null,
   "id": "3fddf0e0-8591-4c37-9cf2-bf1bcedba9f1",
   "metadata": {},
   "outputs": [],
   "source": []
  },
  {
   "cell_type": "code",
   "execution_count": null,
   "id": "fb98205f-3575-4558-9da3-f5b7d92c811e",
   "metadata": {},
   "outputs": [],
   "source": []
  },
  {
   "cell_type": "code",
   "execution_count": null,
   "id": "8a7b8901-c6f3-4140-bc09-20b2217ca346",
   "metadata": {},
   "outputs": [],
   "source": []
  },
  {
   "cell_type": "code",
   "execution_count": null,
   "id": "a9e2f396-5324-4209-bf29-5a8b58cc493c",
   "metadata": {},
   "outputs": [],
   "source": []
  },
  {
   "cell_type": "code",
   "execution_count": null,
   "id": "5af69ea7-b973-4a03-80e2-8bb27bbc6b1c",
   "metadata": {},
   "outputs": [],
   "source": []
  },
  {
   "cell_type": "code",
   "execution_count": null,
   "id": "95f1c3e3-a3f8-4478-a57d-8b01b56ba4ed",
   "metadata": {},
   "outputs": [],
   "source": []
  },
  {
   "cell_type": "code",
   "execution_count": null,
   "id": "ebe128f6-ab37-4214-83b8-d6065915c7fc",
   "metadata": {},
   "outputs": [],
   "source": []
  },
  {
   "cell_type": "code",
   "execution_count": null,
   "id": "0fd816e0-dd0a-4d17-9d2c-78cc68cf186f",
   "metadata": {},
   "outputs": [],
   "source": []
  },
  {
   "cell_type": "code",
   "execution_count": null,
   "id": "7e28dba0-c64e-4d3c-982b-fcd6fbcc1c03",
   "metadata": {},
   "outputs": [],
   "source": []
  },
  {
   "cell_type": "code",
   "execution_count": null,
   "id": "f819dcb7-a405-4654-a6b8-cc014facf466",
   "metadata": {},
   "outputs": [],
   "source": []
  },
  {
   "cell_type": "code",
   "execution_count": null,
   "id": "3c6e12a2-3dbe-40fc-b49c-8f50687f8e80",
   "metadata": {},
   "outputs": [],
   "source": []
  },
  {
   "cell_type": "code",
   "execution_count": null,
   "id": "9f7d2fe0-d0a0-4c18-a1db-6ba8cc1cd86d",
   "metadata": {},
   "outputs": [],
   "source": []
  },
  {
   "cell_type": "code",
   "execution_count": null,
   "id": "bcdda82b-c538-4ce6-8a67-b868075bf786",
   "metadata": {},
   "outputs": [],
   "source": []
  },
  {
   "cell_type": "code",
   "execution_count": null,
   "id": "c50a4d3a-d7b4-4198-9760-34b8defd014e",
   "metadata": {},
   "outputs": [],
   "source": []
  },
  {
   "cell_type": "code",
   "execution_count": null,
   "id": "459b3ba6-7c35-470c-a5e1-4364f99321d6",
   "metadata": {},
   "outputs": [],
   "source": []
  }
 ],
 "metadata": {
  "kernelspec": {
   "display_name": "Python 3 (ipykernel)",
   "language": "python",
   "name": "python3"
  },
  "language_info": {
   "codemirror_mode": {
    "name": "ipython",
    "version": 3
   },
   "file_extension": ".py",
   "mimetype": "text/x-python",
   "name": "python",
   "nbconvert_exporter": "python",
   "pygments_lexer": "ipython3",
   "version": "3.12.7"
  }
 },
 "nbformat": 4,
 "nbformat_minor": 5
}
