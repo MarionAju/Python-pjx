{
 "cells": [
  {
   "cell_type": "code",
   "execution_count": 21,
   "id": "03a492f4-200f-41f2-b4e3-2f47b55fbadc",
   "metadata": {},
   "outputs": [
    {
     "name": "stdin",
     "output_type": "stream",
     "text": [
      "Enter your name:  Alex\n",
      "Enter your weight in pounds:  170\n",
      "Enter your height in inches:  69\n"
     ]
    },
    {
     "name": "stdout",
     "output_type": "stream",
     "text": [
      "25.101869355177485\n",
      "Alex, you are overweight. You need to excercise and stop sitting and writing so many python tutorials.\n"
     ]
    }
   ],
   "source": [
    "\n",
    "name = input(\"Enter your name: \")\n",
    "weight = int(input(\"Enter your weight in pounds: \"))\n",
    "height = int(input(\"Enter your height in inches: \"))\n",
    "\n",
    "BMI = (weight * 703) / (height * height)\n",
    "print(BMI)\n",
    "if BMI >0:\n",
    "    if (BMI < 18.5):\n",
    "        print(name + \", you are underweight\")\n",
    "    elif (BMI <= 24.9):\n",
    "        print(name + \", you are of normal weight\")\n",
    "    elif (BMI <= 29.9):\n",
    "        print(name + \", you are overweight. You need to excercise and stop sitting and writing so many python tutorials.\")\n",
    "    elif (BMI <= 34.9):\n",
    "        print(name + \", you are obese\")\n",
    "    elif (BMI <= 39.9):\n",
    "        print(name + \", you are severely obese\")\n",
    "    else:\n",
    "        print(name + \", you are morbidly obese\")\n",
    "else:\n",
    "    print(\"Enter valid input\")"
   ]
  },
  {
   "cell_type": "code",
   "execution_count": 4,
   "id": "f207bef1-02c6-459c-86f1-f3ca57f98884",
   "metadata": {},
   "outputs": [
    {
     "name": "stdout",
     "output_type": "stream",
     "text": [
      "170\n"
     ]
    }
   ],
   "source": [
    "print(weight)"
   ]
  },
  {
   "cell_type": "code",
   "execution_count": null,
   "id": "0718f951-f775-4ac6-9072-eed377e7f88e",
   "metadata": {},
   "outputs": [],
   "source": []
  },
  {
   "cell_type": "code",
   "execution_count": null,
   "id": "f5ba2939-c4b1-4af2-a96c-db5f60a97f82",
   "metadata": {},
   "outputs": [],
   "source": []
  },
  {
   "cell_type": "code",
   "execution_count": null,
   "id": "cfdb4f0a-3b35-452b-b54d-f18e85352215",
   "metadata": {},
   "outputs": [],
   "source": [
    "# BMI = (Weight in pounds * 703) / (height in inches * height in inches)"
   ]
  },
  {
   "cell_type": "code",
   "execution_count": null,
   "id": "c5b76266-59a6-40ee-8569-84180609c044",
   "metadata": {},
   "outputs": [],
   "source": [
    "print(weight)"
   ]
  },
  {
   "cell_type": "code",
   "execution_count": null,
   "id": "49297602-2020-452a-8ec7-847658d91864",
   "metadata": {},
   "outputs": [],
   "source": [
    "Under 18.5\tUnderweight\tMinimal\n",
    "18.5 - 24.9\tNormal Weight\tMinimal\n",
    "25 - 29.9\tOverweight\tIncreased\n",
    "30 - 34.9\tObese\tHigh\n",
    "35 - 39.9\tSeverely Obese\tVery High\n",
    "40 and over\tMorbidly Obese\tExtremely High"
   ]
  },
  {
   "cell_type": "code",
   "execution_count": 18,
   "id": "80c7e0f7-5e07-4f8c-bd95-eaabc3f126fc",
   "metadata": {},
   "outputs": [
    {
     "name": "stdout",
     "output_type": "stream",
     "text": [
      "Alex, you are overweight\n"
     ]
    }
   ],
   "source": [
    "if BMI >0:\n",
    "    if (BMI < 18.5):\n",
    "        print(name + \", you are underweight\")\n",
    "    elif (BMI <= 24.9):\n",
    "        print(name + \", you are of normal weight\")\n",
    "    elif (BMI <= 29.9):\n",
    "        print(name + \", you are overweight\")\n",
    "    elif (BMI <= 34.9):\n",
    "        print(name + \", you are obese\")\n",
    "    elif (BMI <= 39.9):\n",
    "        print(name + \", you are severely obese\")\n",
    "    else:\n",
    "        print(name + \", you are morbidly obese\")\n",
    "else:\n",
    "    print(\"Enter valid input\")"
   ]
  },
  {
   "cell_type": "code",
   "execution_count": null,
   "id": "475fc7b3-b49a-4f97-9435-8db908e39600",
   "metadata": {},
   "outputs": [],
   "source": []
  },
  {
   "cell_type": "code",
   "execution_count": null,
   "id": "d52dfcfb-9b8f-4890-a59b-034606147298",
   "metadata": {},
   "outputs": [],
   "source": []
  },
  {
   "cell_type": "code",
   "execution_count": null,
   "id": "b81909b5-6afd-409d-b530-8bbbff1b7a10",
   "metadata": {},
   "outputs": [],
   "source": []
  },
  {
   "cell_type": "code",
   "execution_count": null,
   "id": "fd840b82-998f-4dfd-8182-571f55b5a9e1",
   "metadata": {},
   "outputs": [],
   "source": []
  },
  {
   "cell_type": "code",
   "execution_count": null,
   "id": "a25fc634-94db-4dd3-8b24-38ecba425fc2",
   "metadata": {},
   "outputs": [],
   "source": []
  },
  {
   "cell_type": "code",
   "execution_count": null,
   "id": "5f86be64-2dcd-4a5c-b74d-7dd71d48a7bf",
   "metadata": {},
   "outputs": [],
   "source": []
  },
  {
   "cell_type": "code",
   "execution_count": null,
   "id": "3529d483-81b1-45ec-8302-03f594519400",
   "metadata": {},
   "outputs": [],
   "source": []
  },
  {
   "cell_type": "code",
   "execution_count": null,
   "id": "5fe510d4-ec81-407e-8394-c1922360ee54",
   "metadata": {},
   "outputs": [],
   "source": []
  },
  {
   "cell_type": "code",
   "execution_count": null,
   "id": "9f43f63c-39b1-426f-b0f2-a4e0a81a2f5d",
   "metadata": {},
   "outputs": [],
   "source": []
  },
  {
   "cell_type": "code",
   "execution_count": null,
   "id": "94554400-28f1-4448-bce2-b8dcdfce3a21",
   "metadata": {},
   "outputs": [],
   "source": []
  },
  {
   "cell_type": "code",
   "execution_count": null,
   "id": "e1d056ef-d214-479a-854e-e151a5700741",
   "metadata": {},
   "outputs": [],
   "source": []
  },
  {
   "cell_type": "code",
   "execution_count": null,
   "id": "3ab03ccb-8799-42eb-8fae-88793d724ef0",
   "metadata": {},
   "outputs": [],
   "source": []
  }
 ],
 "metadata": {
  "kernelspec": {
   "display_name": "Python 3 (ipykernel)",
   "language": "python",
   "name": "python3"
  },
  "language_info": {
   "codemirror_mode": {
    "name": "ipython",
    "version": 3
   },
   "file_extension": ".py",
   "mimetype": "text/x-python",
   "name": "python",
   "nbconvert_exporter": "python",
   "pygments_lexer": "ipython3",
   "version": "3.12.7"
  }
 },
 "nbformat": 4,
 "nbformat_minor": 5
}
